{
 "cells": [
  {
   "cell_type": "markdown",
   "metadata": {},
   "source": [
    "# Replication Corruption Dynamics: The Golden Goose Effect, Paul Niehaus and Sanidp Sukhtankar 2013"
   ]
  },
  {
   "cell_type": "code",
   "execution_count": 1,
   "metadata": {},
   "outputs": [],
   "source": [
    "import pandas as pd"
   ]
  },
  {
   "cell_type": "markdown",
   "metadata": {},
   "source": [
    "This notebook presents the replicated results from \n",
    "\n",
    "[***Corruption Dynamics: The Golden Goose Effect***](https://www.aeaweb.org/articles?id=10.1257/pol.5.4.230), Paul Niehaus and Sandip Sukthankar; (American Economic Journal: Economic Policy 2013, 5(4); 230-269).\n",
    "To do this I rely on the programming language *Python* and the packages *matplotlib*, *numpy*, *pandas*, *scipy*, *statsmodels*. Using these packages I am able to replicate nearly all results from Niehaus and Sukhtankar. Due to space I will only present the most important findings. [Tables](https://github.com/HumanCapitalAnalysis/student-project-LeonardMK/tree/master/tables) and [figures](https://github.com/HumanCapitalAnalysis/student-project-LeonardMK/tree/master/figures) can be found here. The code for replicating the results can be found [here](https://github.com/HumanCapitalAnalysis/student-project-LeonardMK/tree/master/Replication.ipynb)."
   ]
  },
  {
   "cell_type": "markdown",
   "metadata": {},
   "source": [
    "# Motivation"
   ]
  },
  {
   "cell_type": "markdown",
   "metadata": {},
   "source": [
    "Niehaus and Sukthankar build on a paper from Gary S. Becker and George J. Stigler (1974) in which they argue that a principial can reduce corruption by paying an efficency wage. Here Niehaus and Sukthankar pick off and argue that a wage increase of the official's subordinates will lead to a change in expectatioins as well. Officials face the tradeoff of extracting higher rents today to surviving to also extract rents in the future. If the increased utility of future rents offsets the immediate gain Because officials expect higher rents in the future this could lead to a reduction in corruption. Niehaus and Sukhtankar call this the \"golden goose\" effect since officials want to preserve the goose that lays the golden eggs. To underpin their argument Niehaus and Sukthankar propose a model of the officials' optimization problem which will be outlined in the Theoretical results chapter."
   ]
  },
  {
   "cell_type": "markdown",
   "metadata": {},
   "source": [
    "# Policy and Data"
   ]
  },
  {
   "cell_type": "markdown",
   "metadata": {},
   "source": [
    "To test for \"golden goose\" effects Niehaus and Sukhtankar use panel data from the National Rural Employment Guarantee Scheme (NREGS) which is India's largest rural welfare program. Under this scheme every rural household has the right to 100 days of paid labor and can otherwise claim unemployment benefits. NREGS projects typically include construction of roads and irrigation systems. At the beginning of each year a shelf of projects is approved either at the panchayat level (village level) or at the block level (intermediate administrative unit) although higher up officials often propose or approve shelfs of projects. Work is either compensated on a daily wage or on a piece rate basis. In practice each project uses the same type of payment. For example all irrigation projects involving digging trenches use piece-rate payments. This way there is a clear division of project payment types. This difference in payment schemes is important to keep in mind for the later part of Niehaus and Sukhtankar's analysis.  \n",
    "Officials can gain illicit rents in this context through the following forms project selection, overreporting of labor, underpaying workers or stealing materials. Consequently officials are monitored by workers and by higher up officials. Officials that get caught either face suspension or relocation to dead-end jobs.  \n",
    "The state of Orissa announced a wage increase for daily wage projects on the 28.04.2007 which came into effect on the 01.05.2007. The policy change was proposed by the state government of Orissa and saw a wage increased from 50Rs to 70Rs for one day of labor. Therefore Niehaus and Sukhtankar argue for the exogeneity of the policy since the officials are removed from the policymakers.  \n",
    "Niehaus and Sukthankar use individual level [official data](http://nrega.nic.in) which includes personal information like age and residency. Also they get information about the official amount paid and the type of project. They gathered data from the states of Orissa and Andra Pradesh which they use as controls in their later analysis.  \n",
    "To get an actual measure of corruption Niehaus and Sukthanker sampled 1938 households from the official data to ask them about about the type of project (daily-wage or piece-rate), the amount of work done and the payment they received. Additionally village officials were questioned about the local labor market conditions, seasons and official visits."
   ]
  },
  {
   "cell_type": "markdown",
   "metadata": {},
   "source": [
    "# Theoretical Results and Propositions"
   ]
  },
  {
   "cell_type": "markdown",
   "metadata": {},
   "source": [
    "Niehaus and Sukthankar propose a model where time is discrete. An infinitely lived official and $N$ workers maximizie their discounted earnings.\n",
    "$$ u_i(t) = \\sum_{\\tau = t}^{\\infty} \\beta^{\\tau - t}y_i(\\tau) $$\n",
    "Here $y_i(\\tau)$ are the earnings of agent $i$ in period $\\tau$. It is assumed that identical agents wait to replace a fired official.  \n",
    "In each period at most one project can be active. Variabel $\\omega^t$ equals $1$ if the project is a daily wage project and $0$ if it is a piece-rate project. The shelf is defined as a stochastic stream of projects from which at the beginning of each period a random project is drawn. \n",
    "$$ \\phi \\equiv \\textbf{P}(\\omega^t = 1 |\\omega^{t - 1}, \\omega^{t - 2}, ...) $$\n",
    "It is assumed that all agents know $\\phi$ and that it is exogenous. Each worker is assumed to have one unit of labor he can supply. Further the following notation holds  \n",
    "1. $\\underline{w}^t, \\underline{r}^t$: Daily wage and piece-rate earnings in the private sector.\n",
    "2. $w_i^t, r_i^t$: Wage a NREGS worker receives. Can differ from the statutory wage.\n",
    "3. $\\bar{w}, \\bar{r}$: Statutory wage rate.\n",
    "4. $n^t, q^t$: Is the amount of work supplied for daily wage/ piece-rate projects.\n",
    "5. $\\hat{n}^t, \\hat{q}^t$: Is the amount of work reported by the official on daily wage respectively piece-rate projects.\n",
    "6. $\\bar{n}, \\bar{q}$: The number of registered workers in a villge.\n",
    "\n",
    "If the project is a daily wage project the official gains the following illicit rents\n",
    "\n",
    "$$ y_o^t(\\omega^t = 1) = \\underbrace{(\\bar{w} - w)}_{Underpayment} n + \\underbrace{(\\hat{n}^t - n)}_{Overreporting} \\bar{w}$$\n",
    "\n",
    "A similar formula holds in case of piece-rate projects.\n",
    "\n",
    "$$ y_o^t(\\omega^t = 1) = \\underbrace{(\\bar{r} - r)}_{Underpayment} q + \\underbrace{(\\hat{q}^t - q)}_{Overreporting} \\bar{r}$$\n",
    "\n",
    "The probability of detection is modeled as a function $\\pi(\\hat{n}, n), \\mu(\\hat{q}, q)$ for daily wage respectively piece-rate projects. Further it is assumed that $\\pi(n, n)=\\mu(q, q)=0$ meaning there is no punsihment for honesty and it is assumed that the problem of the official has an interior optimum. If an official is caught he receives a continuation payoff normalized to zero.\n",
    "\n",
    "The recursive formulation of the official's objective function is\n",
    "\n",
    "$$\\bar{V}\\equiv \\phi V(\\bar{w}, 1 \\phi) + (1 - \\phi) V(\\bar{w}, 0, \\phi)$$\n",
    "\n",
    "where $V(\\bar{w}, 1, \\phi)$ is the official's expected continuation payoff in a period with a daily wage project. Consequently $V(\\bar{w}, 0, \\phi)$ marks the case of a piece-rate project.\n",
    "\n",
    "$$ V(\\bar{w}, 1, \\phi) = max_\\hat{n}[(\\bar{w} - w) n + (\\hat{n} - n) \\bar{w} + \\beta (1 - \\pi(\\hat{n}, n^t)) \\bar{V}(\\bar{w}, \\phi)]$$\n",
    "$$ V(\\bar{w}, 0, \\phi) = max_\\hat{q}[(\\bar{r} - r) q + (\\hat{q} - q) \\bar{r} + \\beta (1 - \\pi(\\hat{n}, n^t)) \\bar{V}(\\bar{w}, \\phi)]$$\n",
    "\n",
    "From this model Niehaus and Sukthankar derive three propositions which they plan to test in the coming regressions.\n",
    "1. Overreporting $\\hat{n}^t - n$ on daily-wage projects is increasing in $\\bar{w}$ if $\\frac{\\bar{w}}{\\bar{V}} \\frac{\\partial{\\bar{V}}}{\\partial{\\bar{w}}} < 1$ and decreasing otherwise. A higher wage increases utility from future overreporting raising the importance of keeping one's job.\n",
    "2. Total theft from piece-rate project $(\\hat{q}^t \\bar{r} - qr)$ is decreasing in $\\bar{w}$. The intuition here is that an increase in $\\bar{w}$ leads to a substitution effect in corruption from daily-wage to piece-rate.\n",
    "3. Restrict ttention to any closed, bounded set of parameters $(\\phi, \\bar{w}, \\bar{r}, \\underline{w}, \\underline{r})$. Then for $|y_o(1) - y_o(0)|$ sufficiently small,\n",
    "$$ \\frac{\\partial^2(\\hat{n}^t - n)}{\\partial \\bar{w} \\partial \\phi} < 0\\ and\\ \\frac{\\partial^2(\\hat{q}^t \\bar{r} - qr)}{\\partial \\bar{w} \\partial \\phi} < 0 $$\n",
    "*** Expand on this ***"
   ]
  },
  {
   "cell_type": "markdown",
   "metadata": {},
   "source": [
    "# Descriptive Statistics and Figures"
   ]
  },
  {
   "cell_type": "markdown",
   "metadata": {},
   "source": [
    "Table 1 gives descriptive statistics for the official and actual daily-wage days respectively piece-rate project payments and the Fraction of daily-wage projects is the fraction of projects for each panchayat that are on a daily-wage basis in the next two months. It is evident from Table 1 that only a fraction of the days reported is actually paid. Same holds true for piece-rate project payments. We also see that most of the panchayat's in our sample use daily-wage projects. We can further see that most panchayat's either use only daily-wage or only piece-rate projects.  \n",
    "From Figure 3 presents the mean daily-wage rate for Orissa over the sample period. We can see that the new daily-wage rate lead to an almost immediate reaction in the official data. However, official reports are still below 70Rs for most of the observation period. Interestingly the actual wage rate from the survey-data didn't reflect this change. If at all the m\n",
    "\n",
    "<img src = \"../figures/Figure3.png\" width = 720 height = 720/>"
   ]
  },
  {
   "cell_type": "code",
   "execution_count": 8,
   "metadata": {},
   "outputs": [
    {
     "ename": "ValueError",
     "evalue": "No tables found",
     "output_type": "error",
     "traceback": [
      "\u001b[1;31m---------------------------------------------------------------------------\u001b[0m",
      "\u001b[1;31mValueError\u001b[0m                                Traceback (most recent call last)",
      "\u001b[1;32m<ipython-input-8-2aa5ff82810b>\u001b[0m in \u001b[0;36m<module>\u001b[1;34m()\u001b[0m\n\u001b[1;32m----> 1\u001b[1;33m \u001b[0mpd\u001b[0m\u001b[1;33m.\u001b[0m\u001b[0mread_html\u001b[0m\u001b[1;33m(\u001b[0m\u001b[1;34m\"C:/Users/Wilms/OneDrive - uni-bonn.de/Uni Bonn/2. Semester/Microeconometrics/Replication study/Github Replication/student-project-LeonardMK/tree/master/tables/Table1.html\"\u001b[0m\u001b[1;33m)\u001b[0m\u001b[1;33m\u001b[0m\u001b[0m\n\u001b[0m",
      "\u001b[1;32m~\\Anaconda3\\lib\\site-packages\\pandas\\io\\html.py\u001b[0m in \u001b[0;36mread_html\u001b[1;34m(io, match, flavor, header, index_col, skiprows, attrs, parse_dates, tupleize_cols, thousands, encoding, decimal, converters, na_values, keep_default_na)\u001b[0m\n\u001b[0;32m    913\u001b[0m                   \u001b[0mthousands\u001b[0m\u001b[1;33m=\u001b[0m\u001b[0mthousands\u001b[0m\u001b[1;33m,\u001b[0m \u001b[0mattrs\u001b[0m\u001b[1;33m=\u001b[0m\u001b[0mattrs\u001b[0m\u001b[1;33m,\u001b[0m \u001b[0mencoding\u001b[0m\u001b[1;33m=\u001b[0m\u001b[0mencoding\u001b[0m\u001b[1;33m,\u001b[0m\u001b[1;33m\u001b[0m\u001b[0m\n\u001b[0;32m    914\u001b[0m                   \u001b[0mdecimal\u001b[0m\u001b[1;33m=\u001b[0m\u001b[0mdecimal\u001b[0m\u001b[1;33m,\u001b[0m \u001b[0mconverters\u001b[0m\u001b[1;33m=\u001b[0m\u001b[0mconverters\u001b[0m\u001b[1;33m,\u001b[0m \u001b[0mna_values\u001b[0m\u001b[1;33m=\u001b[0m\u001b[0mna_values\u001b[0m\u001b[1;33m,\u001b[0m\u001b[1;33m\u001b[0m\u001b[0m\n\u001b[1;32m--> 915\u001b[1;33m                   keep_default_na=keep_default_na)\n\u001b[0m",
      "\u001b[1;32m~\\Anaconda3\\lib\\site-packages\\pandas\\io\\html.py\u001b[0m in \u001b[0;36m_parse\u001b[1;34m(flavor, io, match, attrs, encoding, **kwargs)\u001b[0m\n\u001b[0;32m    747\u001b[0m             \u001b[1;32mbreak\u001b[0m\u001b[1;33m\u001b[0m\u001b[0m\n\u001b[0;32m    748\u001b[0m     \u001b[1;32melse\u001b[0m\u001b[1;33m:\u001b[0m\u001b[1;33m\u001b[0m\u001b[0m\n\u001b[1;32m--> 749\u001b[1;33m         \u001b[0mraise_with_traceback\u001b[0m\u001b[1;33m(\u001b[0m\u001b[0mretained\u001b[0m\u001b[1;33m)\u001b[0m\u001b[1;33m\u001b[0m\u001b[0m\n\u001b[0m\u001b[0;32m    750\u001b[0m \u001b[1;33m\u001b[0m\u001b[0m\n\u001b[0;32m    751\u001b[0m     \u001b[0mret\u001b[0m \u001b[1;33m=\u001b[0m \u001b[1;33m[\u001b[0m\u001b[1;33m]\u001b[0m\u001b[1;33m\u001b[0m\u001b[0m\n",
      "\u001b[1;32m~\\Anaconda3\\lib\\site-packages\\pandas\\compat\\__init__.py\u001b[0m in \u001b[0;36mraise_with_traceback\u001b[1;34m(exc, traceback)\u001b[0m\n\u001b[0;32m    383\u001b[0m         \u001b[1;32mif\u001b[0m \u001b[0mtraceback\u001b[0m \u001b[1;33m==\u001b[0m \u001b[0mEllipsis\u001b[0m\u001b[1;33m:\u001b[0m\u001b[1;33m\u001b[0m\u001b[0m\n\u001b[0;32m    384\u001b[0m             \u001b[0m_\u001b[0m\u001b[1;33m,\u001b[0m \u001b[0m_\u001b[0m\u001b[1;33m,\u001b[0m \u001b[0mtraceback\u001b[0m \u001b[1;33m=\u001b[0m \u001b[0msys\u001b[0m\u001b[1;33m.\u001b[0m\u001b[0mexc_info\u001b[0m\u001b[1;33m(\u001b[0m\u001b[1;33m)\u001b[0m\u001b[1;33m\u001b[0m\u001b[0m\n\u001b[1;32m--> 385\u001b[1;33m         \u001b[1;32mraise\u001b[0m \u001b[0mexc\u001b[0m\u001b[1;33m.\u001b[0m\u001b[0mwith_traceback\u001b[0m\u001b[1;33m(\u001b[0m\u001b[0mtraceback\u001b[0m\u001b[1;33m)\u001b[0m\u001b[1;33m\u001b[0m\u001b[0m\n\u001b[0m\u001b[0;32m    386\u001b[0m \u001b[1;32melse\u001b[0m\u001b[1;33m:\u001b[0m\u001b[1;33m\u001b[0m\u001b[0m\n\u001b[0;32m    387\u001b[0m     \u001b[1;31m# this version of raise is a syntax error in Python 3\u001b[0m\u001b[1;33m\u001b[0m\u001b[1;33m\u001b[0m\u001b[0m\n",
      "\u001b[1;31mValueError\u001b[0m: No tables found"
     ]
    }
   ],
   "source": []
  }
 ],
 "metadata": {
  "kernelspec": {
   "display_name": "Python 3",
   "language": "python",
   "name": "python3"
  },
  "language_info": {
   "codemirror_mode": {
    "name": "ipython",
    "version": 3
   },
   "file_extension": ".py",
   "mimetype": "text/x-python",
   "name": "python",
   "nbconvert_exporter": "python",
   "pygments_lexer": "ipython3",
   "version": "3.6.4"
  }
 },
 "nbformat": 4,
 "nbformat_minor": 2
}

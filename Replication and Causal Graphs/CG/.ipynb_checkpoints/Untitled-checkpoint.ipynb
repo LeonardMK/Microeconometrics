{
 "cells": [
  {
   "cell_type": "code",
   "execution_count": 54,
   "metadata": {},
   "outputs": [
    {
     "name": "stderr",
     "output_type": "stream",
     "text": [
      "Warning message:\n",
      "\"package 'DiagrammeRsvg' is in use and will not be installed\""
     ]
    },
    {
     "name": "stdout",
     "output_type": "stream",
     "text": [
      "package 'rsvg' successfully unpacked and MD5 sums checked\n",
      "\n",
      "The downloaded binary packages are in\n",
      "\tC:\\Users\\Wilms\\AppData\\Local\\Temp\\Rtmp634Jpa\\downloaded_packages\n"
     ]
    }
   ],
   "source": [
    "# Need to install DiagrammeRsvg to export graphs from CRAN.\n",
    "install.packages(\"DiagrammeRsvg\")\n",
    "install.packages(\"rsvg\")\n",
    "\n",
    "# Creating Causal Graphs using DiagrammeR\n",
    "library(magrittr)\n",
    "library(rsvg)\n",
    "library(DiagrammeR)\n",
    "library(DiagrammeRsvg)"
   ]
  },
  {
   "cell_type": "code",
   "execution_count": 47,
   "metadata": {},
   "outputs": [
    {
     "data": {
      "text/html": [
       "NULL"
      ],
      "text/plain": [
       "Use HTML to display this shiny-taglist of length 1 with named elements character(0)"
      ]
     },
     "metadata": {},
     "output_type": "display_data"
    }
   ],
   "source": [
    "graph <- grViz(\"\n",
    "    digraph {\n",
    "    # Graph statement\n",
    "    graph [overlap = true, rankdir = LR]\n",
    "\n",
    "    node [shape = circle,\n",
    "          style = filled,\n",
    "          fillcolor = black,\n",
    "          fontcolor = white]\n",
    "    a [label = A, fillcolor = white, fontcolor = black]\n",
    "    b [label = B]\n",
    "    c [label = C]\n",
    "    d [label = D]\n",
    "\n",
    "    a -> {b, c} [dir = both]\n",
    "    b -> d\n",
    "    c -> {b, d}\n",
    "    }\n",
    "\")"
   ]
  },
  {
   "cell_type": "code",
   "execution_count": 55,
   "metadata": {},
   "outputs": [],
   "source": [
    "graph %>% export_svg %>% charToRaw %>% rsvg_png(\"Test.png\")"
   ]
  },
  {
   "cell_type": "markdown",
   "metadata": {},
   "source": [
    "### Causal Graph for Regressions in Table 3 - 5"
   ]
  },
  {
   "cell_type": "code",
   "execution_count": 72,
   "metadata": {},
   "outputs": [],
   "source": [
    "# Graph that assumes the back-door criterion is met\n",
    "graph1 <- grViz(\"\n",
    "    digraph {\n",
    "    # Graph statement\n",
    "    graph [overlap = true, rankdir = LR]\n",
    "\n",
    "    node [shape = circle,\n",
    "          style = filled,\n",
    "          fillcolor = black,\n",
    "          fontcolor = white]\n",
    "    t [label = T]\n",
    "    r [label = R]\n",
    "    offy [label = \\\"Official y\\\"]\n",
    "    acty [label = \\\"Actual y\\\"]\n",
    "    d [label = Shock]\n",
    "    u [label = U, fillcolor = white, fontcolor = black]\n",
    "\n",
    "    t -> {r, acty, offy, d}\n",
    "    r -> {acty, offy, d}\n",
    "    d -> {acty, offy}\n",
    "    u -> {t, r, acty, offy} [dir = both]\n",
    "    acty -> offy\n",
    "\n",
    "    }\n",
    "\")"
   ]
  },
  {
   "cell_type": "code",
   "execution_count": 74,
   "metadata": {},
   "outputs": [],
   "source": [
    "# Graph that assumes the back-door criterion is not met\n",
    "graph2 <- grViz(\"\n",
    "    digraph {\n",
    "    # Graph statement\n",
    "    graph [overlap = true, rankdir = LR]\n",
    "\n",
    "    node [shape = circle,\n",
    "          style = filled,\n",
    "          fillcolor = black,\n",
    "          fontcolor = white]\n",
    "    t [label = T]\n",
    "    r [label = R]\n",
    "    offy [label = \\\"Official y\\\"]\n",
    "    acty [label = \\\"Actual y\\\"]\n",
    "    d [label = Shock]\n",
    "    u [label = U, fillcolor = white, fontcolor = black]\n",
    "\n",
    "    t -> {r, acty, offy, d}\n",
    "    r -> {acty, offy, d}\n",
    "    d -> {acty, offy}\n",
    "    u -> {t, r, acty, offy, d} [dir = both]\n",
    "    acty -> offy\n",
    "\n",
    "    }\n",
    "\")"
   ]
  },
  {
   "cell_type": "code",
   "execution_count": 75,
   "metadata": {},
   "outputs": [],
   "source": [
    "graph1 %>% export_svg %>% charToRaw %>% rsvg_png(\"CG1.png\")\n",
    "graph2 %>% export_svg %>% charToRaw %>% rsvg_png(\"CG2.png\")"
   ]
  }
 ],
 "metadata": {
  "kernelspec": {
   "display_name": "R",
   "language": "R",
   "name": "ir"
  },
  "language_info": {
   "codemirror_mode": "r",
   "file_extension": ".r",
   "mimetype": "text/x-r-source",
   "name": "R",
   "pygments_lexer": "r",
   "version": "3.4.3"
  }
 },
 "nbformat": 4,
 "nbformat_minor": 2
}

{
 "cells": [
  {
   "cell_type": "markdown",
   "metadata": {},
   "source": [
    "### Create Causal Graphs using ggdag und ggplot2"
   ]
  },
  {
   "cell_type": "code",
   "execution_count": 4,
   "metadata": {},
   "outputs": [
    {
     "ename": "ERROR",
     "evalue": "Error in library(Zelig): there is no package called 'Zelig'\n",
     "execution_count": 4,
     "output_type": "error",
     "traceback": [
      "Error in library(Zelig): there is no package called 'Zelig'\nTraceback:\n",
      "1. library(Zelig)",
      "2. stop(txt, domain = NA)"
     ]
    }
   ],
   "source": [
    "# Load package for drawing graphs\n",
    "library(diagrammeR)"
   ]
  },
  {
   "cell_type": "code",
   "execution_count": null,
   "metadata": {},
   "outputs": [],
   "source": []
  }
 ],
 "metadata": {
  "kernelspec": {
   "display_name": "R",
   "language": "R",
   "name": "ir"
  },
  "language_info": {
   "codemirror_mode": "r",
   "file_extension": ".r",
   "mimetype": "text/x-r-source",
   "name": "R",
   "pygments_lexer": "r",
   "version": "3.4.3"
  }
 },
 "nbformat": 4,
 "nbformat_minor": 2
}

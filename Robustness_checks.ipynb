{
 "cells": [
  {
   "cell_type": "code",
   "execution_count": 1,
   "metadata": {},
   "outputs": [
    {
     "name": "stderr",
     "output_type": "stream",
     "text": [
      "Registered S3 methods overwritten by 'ggplot2':\n",
      "  method         from \n",
      "  [.quosures     rlang\n",
      "  c.quosures     rlang\n",
      "  print.quosures rlang\n",
      "Loading required package: car\n",
      "Loading required package: carData\n",
      "Loading required package: lmtest\n",
      "Loading required package: zoo\n",
      "\n",
      "Attaching package: 'zoo'\n",
      "\n",
      "The following objects are masked from 'package:base':\n",
      "\n",
      "    as.Date, as.Date.numeric\n",
      "\n",
      "Loading required package: sandwich\n",
      "Loading required package: survival\n",
      "Registered S3 method overwritten by 'rvest':\n",
      "  method            from\n",
      "  read_xml.response xml2\n",
      "-- Attaching packages --------------------------------------- tidyverse 1.2.1 --\n",
      "v tibble  2.1.1       v purrr   0.3.2  \n",
      "v tidyr   0.8.3       v dplyr   0.8.0.1\n",
      "v readr   1.3.1       v stringr 1.4.0  \n",
      "v tibble  2.1.1       v forcats 0.4.0  \n",
      "-- Conflicts ------------------------------------------ tidyverse_conflicts() --\n",
      "x dplyr::filter() masks stats::filter()\n",
      "x dplyr::lag()    masks stats::lag()\n",
      "x dplyr::recode() masks car::recode()\n",
      "x purrr::some()   masks car::some()\n"
     ]
    }
   ],
   "source": [
    "# Load packages\n",
    "library(ggplot2)\n",
    "library(AER)\n",
    "library(tidyverse)"
   ]
  },
  {
   "cell_type": "code",
   "execution_count": 2,
   "metadata": {},
   "outputs": [
    {
     "data": {
      "text/plain": [
       "     dwdiff           rateprdiff     \n",
       " Min.   :-12.9032   Min.   :-349.55  \n",
       " 1st Qu.: -0.3226   1st Qu.:   0.00  \n",
       " Median :  0.0000   Median :   0.00  \n",
       " Mean   :  2.2422   Mean   :  42.21  \n",
       " 3rd Qu.:  2.7692   3rd Qu.:   0.00  \n",
       " Max.   : 54.4175   Max.   :3287.98  "
      ]
     },
     "metadata": {},
     "output_type": "display_data"
    },
    {
     "name": "stderr",
     "output_type": "stream",
     "text": [
      "Saving 13.3 x 13.3 in image\n"
     ]
    },
    {
     "data": {
      "image/png": "[encoded data removed]",
      "text/plain": [
       "plot without title"
      ]
     },
     "metadata": {},
     "output_type": "display_data"
    }
   ],
   "source": [
    "# Load dataset\n",
    "usedata <- read.csv(\"data/finalanalysisdata.csv\")\n",
    "diddata <- read.csv(\"data/didanalysisdata.csv\")\n",
    "\n",
    "# Create a  months since shock variable, and corruption variables\n",
    "usedata$months_shock <- as.numeric(cut(usedata$day, c(0, 90, 120, 150, 180, 300), c(0, 1, 2, 3, 4)))\n",
    "usedata$dwdiff <- usedata$daysdwoff - usedata$daysdw\n",
    "usedata$rateprdiff <- usedata$rateproff - usedata$ratepr\n",
    "\n",
    "# Check for outliers\n",
    "summary(usedata[, c(\"dwdiff\", \"rateprdiff\")])\n",
    "\n",
    "# Explanations for negative theft values\n",
    "# Measurement errors.\n",
    "# Mistake made by the official\n",
    "\n",
    "# Calculate Correlation table to find potential problems in data\n",
    "varvec <- c(\"daysdwoff\", \"daysdw\", \"rateproff\", \"ratepr\", \"dwdiff\", \"rateprdiff\", \"fdwfrac\", \"bdwfrac\", \"shock\", \"day\", \"dayofmonth\")\n",
    "\n",
    "cor_table = round(cor(usedata[, varvec], use = \"pairwise.complete.obs\"), 3)\n",
    "\n",
    "# Replace lower values with empty cells\n",
    "cor_table[lower.tri(cor_table)] = \"\"\n",
    "\n",
    "cor_table <- data.frame(cor_table)\n",
    "\n",
    "# Publication ready tables\n",
    "varnames <- c(\"Off. DW days\", \"Act. DW days\", \"Off. rate PR\", \"Act. rate PR\", \"DW Diff.\", \"Rate PR diff\", \n",
    "              \"Forw. fraction DW\", \"Backw. fraction DW\", \"Shock\", \"Day\", \"Day of Month\")\n",
    "\n",
    "row.names(cor_table) <- varnames\n",
    "colnames(cor_table) <- varnames\n",
    "\n",
    "# Save table\n",
    "write.csv(cor_table, file = \"Robustness/tables/CorTable.csv\")\n",
    "\n",
    "# Paper claims no effect of shock and day. However show this\n",
    "agg_fdwfrac = data.frame(\"mean_fwddwfrac\" = tapply(usedata[, \"fdwfrac\"], usedata[, \"day\"], mean, na.rm = TRUE))\n",
    "\n",
    "# Change names to actual dates\n",
    "agg_fdwfrac$Date <- as.Date(as.numeric(rownames(agg_fdwfrac)) - 1, origin = \"2007-01-01\")\n",
    "\n",
    "# Plot data\n",
    "ggplot(agg_fdwfrac, aes(x = as.numeric(rownames(agg_fdwfrac)), y = mean_fwddwfrac)) + geom_point() + theme_bw() + geom_vline(xintercept = 121) + \n",
    "scale_x_continuous(seq(60, 182, 7), name = \"Date\", labels = agg_fdwfrac$Date[seq(1, 122, 7)]) + xlab(\"Date\") + ylab(\"Mean forward daily wage fraction\") + theme(axis.text.x = element_text(angle = 90)) + \n",
    "  geom_text(aes(x = 119, y = 0.69, label = \"Shock\"), angle = 90, size = 4, col = \"black\")\n",
    "\n",
    "# Save plot\n",
    "ggsave(\"Robustness/figures/Fdwfrac.png\", scale = 2)"
   ]
  },
  {
   "cell_type": "code",
   "execution_count": 3,
   "metadata": {},
   "outputs": [
    {
     "name": "stderr",
     "output_type": "stream",
     "text": [
      "Warning message:\n",
      "\"Removed 1439 rows containing non-finite values (stat_bin).\"Saving 13.3 x 13.3 in image\n",
      "Warning message:\n",
      "\"Removed 1439 rows containing non-finite values (stat_bin).\""
     ]
    },
    {
     "data": {
      "image/png": "[encoded data removed]",
      "text/plain": [
       "plot without title"
      ]
     },
     "metadata": {},
     "output_type": "display_data"
    },
    {
     "name": "stderr",
     "output_type": "stream",
     "text": [
      "Saving 13.3 x 13.3 in image\n"
     ]
    },
    {
     "data": {
      "image/png": "[encoded data removed]",
      "text/plain": [
       "plot without title"
      ]
     },
     "metadata": {},
     "output_type": "display_data"
    },
    {
     "name": "stderr",
     "output_type": "stream",
     "text": [
      "Saving 13.3 x 13.3 in image\n"
     ]
    },
    {
     "data": {
      "image/png": "[encoded data removed]",
      "text/plain": [
       "plot without title"
      ]
     },
     "metadata": {},
     "output_type": "display_data"
    }
   ],
   "source": [
    "# Motivation for using tobit\n",
    "# Fdwfrac\n",
    "ggplot(usedata, aes(x = fdwfrac)) + geom_histogram(bins = 20) + theme_bw() + xlab(\"Forward daily-wage fraction\") + ylab(\"Frequency\")\n",
    "ggsave(\"Robustness/figures/Hist_fdwfrac.png\", scale = 2)\n",
    "\n",
    "# Days DW\n",
    "ggplot(usedata, aes(x = daysdwoff)) + geom_histogram(bins = 20) + theme_bw() + xlab(\"Forward daily-wage fraction\") + ylab(\"Frequency\")\n",
    "ggsave(\"Robustness/figures/Hist_daysdw.png\", scale = 2)\n",
    "\n",
    "# Piece rate\n",
    "ggplot(usedata, aes(x = rateproff)) + geom_histogram(bins = 20) + theme_bw() + xlab(\"Off. piece-rate\") + ylab(\"Frequency\")\n",
    "ggsave(\"Robustness/figures/Hist_rateproff.png\", scale = 2)"
   ]
  },
  {
   "cell_type": "code",
   "execution_count": 4,
   "metadata": {},
   "outputs": [],
   "source": [
    "# Regression results\n",
    "# Load table function\n",
    "source(\"Robustness/functions/results.R\")"
   ]
  },
  {
   "cell_type": "code",
   "execution_count": 5,
   "metadata": {},
   "outputs": [],
   "source": [
    "# Table 2 tobit\n",
    "tobit_t21 = tobit(fdwfrac ~ shock + day + as.factor(did) + holiday + res_gender + res_sbc + res_tribe + season1 + season2 + cluster(upid) + cluster(day), 0, 1, data = usedata)\n",
    "tobit_t22 = tobit(fdwfrac ~ shock + day + as.factor(did) + holiday + res_gender + res_sbc + res_tribe + season1 + season2 + cluster(ubid) + cluster(day), 0, 1, data = usedata)\n",
    "tobit_t23 = tobit(fdwfrac ~ shock + day + ubid + holiday + res_gender + res_sbc + res_tribe + season1 + season2 + cluster(ubid) + cluster(day), 0, 1, data = usedata) # Add block FE\n",
    "\n",
    "# Save output\n",
    "Table2 <- results(list(tobit_t21, tobit_t22, tobit_t23), c(\"shock\", \"day\"), 4, 2, T, c(\"Day\", \"Day\", \"Day\"), c(\"District\", \"District\", \"Block\"), T, c(\"Shock\", \"Day\"))\n",
    "write.csv(Table2, \"Robustness/tables/Table2.csv\")\n"
   ]
  },
  {
   "cell_type": "code",
   "execution_count": 6,
   "metadata": {},
   "outputs": [],
   "source": [
    "# Table 3 a)\n",
    "tobit_32a = tobit(daysdwoff ~ daysdw + shock + day + as.factor(did) + holiday + res_gender + res_sbc + res_tribe + season1 + season2 + dayofmonth\n",
    "                              + cluster(upid) + cluster(day), 0, data = usedata)\n",
    "\n",
    "# Cluster by block\n",
    "tobit_32ab = tobit(daysdwoff ~ daysdw + shock + day + as.factor(did) + holiday + res_gender + res_sbc + res_tribe + season1 + season2 + dayofmonth\n",
    "                              + cluster(ubid) + cluster(day), 0, data = usedata)\n",
    "\n",
    "# Block FE\n",
    "tobit_32ac = tobit(daysdwoff ~ daysdw + shock + day + ubid + holiday + res_gender + res_sbc + res_tribe + season1 + season2 + dayofmonth\n",
    "                              + cluster(ubid) + cluster(day), 0, data = usedata)\n",
    "\n",
    "# column 6\n",
    "tobit_36a = tobit(daysdwoff  ~ daysdw + shock + shock_alwaysdw + alwaysdw\n",
    "                              + day + shock_day + as.factor(did)\n",
    "                              + holiday + res_gender + res_sbc + res_tribe + season1 + season2\n",
    "                              + cluster(upid) + cluster(day), 0, data = usedata)\n",
    "\n",
    "# Adjust coefficient\n",
    "# Need to find numeric index of shock and shock_day\n",
    "shock_ind <- which(names(tobit_36a$coefficients) == \"shock\")\n",
    "shock_day_ind <- which(names(tobit_36a$coefficients) == \"shock_day\")\n",
    "tobit_36a$coefficients[\"shock\"] <- tobit_36a$coefficients[\"shock\"] + tobit_36a$coefficients[\"shock_day\"]*121\n",
    "tobit_36a$var[shock_ind, shock_ind] <- tobit_36a$var[shock_ind, shock_ind] + 121*121*tobit_36a$var[shock_day_ind, shock_day_ind] + 2*121*tobit_36a$var[shock_ind, shock_day_ind]\n",
    "\n",
    "# Cluster by block\n",
    "tobit_36ab = tobit(daysdwoff  ~ daysdw + shock + shock_alwaysdw + alwaysdw\n",
    "                              + day + shock_day + as.factor(did)\n",
    "                              + holiday + res_gender + res_sbc + res_tribe + season1 + season2\n",
    "                              + cluster(ubid) + cluster(day), 0, data = usedata)\n",
    "\n",
    "# Adjust coefficient\n",
    "tobit_36ab$coefficients[\"shock\"] <- tobit_36ab$coefficients[\"shock\"] + tobit_36ab$coefficients[\"shock_day\"]*121\n",
    "\n",
    "# Need to find numeric index of shock and shock_day\n",
    "shock_ind <- which(names(tobit_36ab$coefficients) == \"shock\")\n",
    "shock_day_ind <- which(names(tobit_36ab$coefficients) == \"shock_day\")\n",
    "tobit_36ab$var[shock_ind,shock_ind] <- tobit_36ab$var[shock_ind,shock_ind] + 121*121*tobit_36ab$var[shock_day_ind,shock_day_ind] + 2*121*tobit_36ab$var[shock_ind,shock_day_ind]\n",
    "\n",
    "\n",
    "# Add block FE\n",
    "tobit_36ac = tobit(daysdwoff  ~ daysdw + shock + shock_alwaysdw + alwaysdw\n",
    "                              + day + shock_day + ubid\n",
    "                              + holiday + res_gender + res_sbc + res_tribe + season1 + season2\n",
    "                              + cluster(ubid) + cluster(day), 0, data = usedata)\n",
    "\n",
    "# Adjust coefficient\n",
    "tobit_36ac$coefficients[\"shock\"] <- tobit_36ac$coefficients[\"shock\"] + tobit_36ac$coefficients[\"shock_day\"]*121\n",
    "\n",
    "# Need to find numeric index of shock and shock_day\n",
    "shock_ind <- which(names(tobit_36ac$coefficients) == \"shock\")\n",
    "shock_day_ind <- which(names(tobit_36ac$coefficients) == \"shock_day\")\n",
    "tobit_36ac$var[shock_ind,shock_ind] <- tobit_36ac$var[shock_ind,shock_ind] + 121*121*tobit_36ac$var[shock_day_ind,shock_day_ind] + 2*121*tobit_36ac$var[shock_ind,shock_day_ind]\n",
    "\n",
    "# Save Regression Outputs\n",
    "Table3a <- results(list(tobit_32a, tobit_32ab, tobit_32ac, tobit_36a, tobit_36ab, tobit_36ac), c(\"shock\", \"shock_alwaysdw\", \"alwaysdw\"), 2, 2, T, \n",
    "                   TE = c(\"Day\", \"Day\", \"Day\", \"Shock x Day\", \"Shock x Day\", \"Shock x Day\"), \n",
    "                   FE = c(\"District\", \"District\", \"Block\", \"District\", \"District\", \"Block\"), \n",
    "                   labels = c(\"Shock\", \"Shock x (Always DW)\", \"Always DW\"))\n",
    "write.csv(Table3a, \"Robustness/tables/Table3a.csv\")"
   ]
  },
  {
   "cell_type": "code",
   "execution_count": 7,
   "metadata": {},
   "outputs": [],
   "source": [
    "# Table 3 b)\n",
    "tobit_32b = tobit(daysdwoff ~ daysdw + shock + shock_fdw_all + shock_fdw_some + fdw_all + fdw_some\n",
    "                              + holiday + res_gender + res_sbc + res_tribe + day + as.factor(did)\n",
    "                              + season1 + season2 + dayofmonth + cluster(upid) + cluster(day), 0, data = usedata)\n",
    "\n",
    "# Cluster by block\n",
    "tobit_32bb = tobit(daysdwoff ~ daysdw + shock + shock_fdw_all + shock_fdw_some + fdw_all + fdw_some\n",
    "                              + holiday + res_gender + res_sbc + res_tribe + day + as.factor(did)\n",
    "                              + season1 + season2 + dayofmonth + cluster(ubid) + cluster(day), 0, data = usedata)\n",
    "\n",
    "# Block FE\n",
    "tobit_32bc = tobit(daysdwoff ~ daysdw + shock + shock_fdw_all + shock_fdw_some + fdw_all + fdw_some\n",
    "                              + holiday + res_gender + res_sbc + res_tribe + day + ubid\n",
    "                              + season1 + season2 + dayofmonth + cluster(ubid) + cluster(day), 0, data = usedata)\n",
    "\n",
    "tobit_36b = tobit(daysdwoff  ~  daysdw + shock + shock_fdw_all + shock_fdw_some + shock_bdw_all + shock_bdw_some + fdw_all + fdw_some + bdw_all + bdw_some\n",
    "                              + holiday + res_gender + res_sbc + res_tribe + day + shock_day + as.factor(did)\n",
    "                              + season1 + season2 + dayofmonth + cluster(upid) + cluster(day), 0, data = usedata)\n",
    "\n",
    "# Need to find numeric index of shock and shock_day\n",
    "shock_ind <- which(names(tobit_36b$coefficients) == \"shock\")\n",
    "shock_day_ind <- which(names(tobit_36b$coefficients) == \"shock_day\")\n",
    "\n",
    "# Adjusting shock coefficient\n",
    "tobit_36b$coefficients[shock_ind] <- tobit_36b$coefficients[shock_ind] + tobit_36b$coefficients[shock_day_ind]*121\n",
    "tobit_36b$var[shock_ind,shock_ind] <- tobit_36b$var[shock_ind,shock_ind] + 121*121*tobit_36b$var[shock_day_ind,shock_day_ind] + 2*121*tobit_36b$var[shock_ind,shock_day_ind]\n",
    "\n",
    "# Cluster by block\n",
    "tobit_36bb = tobit(daysdwoff  ~  daysdw + shock + shock_fdw_all + shock_fdw_some + shock_bdw_all + shock_bdw_some + fdw_all + fdw_some + bdw_all + bdw_some\n",
    "                              + holiday + res_gender + res_sbc + res_tribe + day + shock_day + as.factor(did)\n",
    "                              + season1 + season2 + dayofmonth + cluster(ubid) + cluster(day), 0, data = usedata)\n",
    "\n",
    "# Need to find numeric index of shock and shock_day\n",
    "shock_ind <- which(names(tobit_36bb$coefficients) == \"shock\")\n",
    "shock_day_ind <- which(names(tobit_36bb$coefficients) == \"shock_day\")\n",
    "\n",
    "# ADjusting shock coefficient\n",
    "tobit_36bb$coefficients[shock_ind] <- tobit_36bb$coefficients[shock_ind] + tobit_36bb$coefficients[shock_day_ind]*121\n",
    "\n",
    "tobit_36bb$var[shock_ind,shock_ind] <- tobit_36bb$var[shock_ind,shock_ind] + 121*121*tobit_36bb$var[shock_day_ind,shock_day_ind] + 2*121*tobit_36bb$var[shock_ind,shock_day_ind]\n",
    "\n",
    "# Block FE\n",
    "tobit_36bc = tobit(daysdwoff  ~  daysdw + shock + shock_fdw_all + shock_fdw_some + shock_bdw_all + shock_bdw_some + fdw_all + fdw_some + bdw_all + bdw_some\n",
    "                              + holiday + res_gender + res_sbc + res_tribe + day + shock_day + ubid\n",
    "                              + season1 + season2 + dayofmonth + cluster(ubid) + cluster(day), 0, data = usedata)\n",
    "\n",
    "# Need to find numeric index of shock and shock_day\n",
    "shock_ind <- which(names(tobit_36bc$coefficients) == \"shock\")\n",
    "shock_day_ind <- which(names(tobit_36bc$coefficients) == \"shock_day\")\n",
    "\n",
    "# ADjusting shock coefficient\n",
    "tobit_36bc$coefficients[shock_ind] <- tobit_36bc$coefficients[shock_ind] + tobit_36bc$coefficients[shock_day_ind]*121\n",
    "\n",
    "tobit_36bc$var[shock_ind,shock_ind] <- tobit_36bc$var[shock_ind,shock_ind] + 121*121*tobit_36bc$var[shock_day_ind,shock_day_ind] + 2*121*tobit_36bc$var[shock_ind,shock_day_ind]\n",
    "\n",
    "# Save Regression Outputs\n",
    "Table3b <- results(list(tobit_32b, tobit_32bb, tobit_32bc, tobit_36b, tobit_36bb, tobit_36bc), c(\"shock\", \"shock_fdw_all\", \"shock_fdw_some\", \"shock_bdw_all\", \"shock_bdw_some\"),\n",
    "                   2, 2, T, TE = c(\"Day\", \"Day\", \"Day\", \"Shock x Day\", \"Shock x Day\", \"Shock x Day\"), \n",
    "                   FE = c(\"District\", \"District\", \"Block\", \"District\", \"District\", \"Block\"),\n",
    "                   labels = c(\"Shock\", \"Shock x (Forward DW All)\", \"Shock x (Forward DW Some)\", \"Shock x (Backward DW All)\", \"Shock x (Backward DW Some)\"))\n",
    "write.csv(Table3b, \"Robustness/tables/Table3b.csv\")"
   ]
  },
  {
   "cell_type": "code",
   "execution_count": 8,
   "metadata": {},
   "outputs": [],
   "source": [
    "# Table 4a\n",
    "# Column 2\n",
    "tobit_42a = tobit(rateproff ~ ratepr + shock + day + as.factor(did)  + holiday + res_gender + res_sbc + res_tribe\n",
    "                               + season1 + season2 + dayofmonth + cluster(upid) + cluster(day), 0, data = usedata)\n",
    "\n",
    "tobit_42ab = tobit(rateproff ~ ratepr + shock + day + as.factor(did)  + holiday + res_gender + res_sbc + res_tribe\n",
    "                               + season1 + season2 + dayofmonth + cluster(ubid) + cluster(day), 0, data = usedata)\n",
    "\n",
    "tobit_42ac = tobit(rateproff ~ ratepr + shock + day + ubid  + holiday + res_gender + res_sbc + res_tribe\n",
    "                               + season1 + season2 + dayofmonth + cluster(ubid) + cluster(day), 0, data = usedata)\n",
    "\n",
    "# Column 6\n",
    "tobit_46a = tobit(rateproff  ~ ratepr + shock + shock_alwayspr + alwayspr + day + shock_day + as.factor(did)  + holiday\n",
    "                               + res_gender + res_sbc + res_tribe + season1 + season2 + dayofmonth + cluster(upid) + cluster(day),\n",
    "                               data = usedata)\n",
    "\n",
    "# Need to find numeric index of shock and shock_day\n",
    "shock_ind <- which(names(tobit_46a$coefficients) == \"shock\")\n",
    "shock_day_ind <- which(names(tobit_46a$coefficients) == \"shock_day\")\n",
    "\n",
    "# Adjusting Coefficient\n",
    "tobit_46a$coefficients[shock_ind] <- tobit_46a$coefficients[shock_ind] + tobit_46a$coefficients[shock_day_ind]*121\n",
    "tobit_46a$var[shock_ind,shock_ind] <- tobit_46a$var[shock_ind,shock_ind] + 121*121*tobit_46a$var[shock_day_ind,shock_day_ind] + 2*121*tobit_46a$var[shock_ind,shock_day_ind]\n",
    "\n",
    "# Block level FE\n",
    "tobit_46ab = tobit(rateproff  ~ ratepr + shock + shock_alwayspr + alwayspr + day + shock_day + as.factor(did)  + holiday\n",
    "                               + res_gender + res_sbc + res_tribe + season1 + season2 + dayofmonth + cluster(ubid) + cluster(day),\n",
    "                               data = usedata)\n",
    "\n",
    "# Need to find numeric index of shock and shock_day\n",
    "shock_ind <- which(names(tobit_46ab$coefficients) == \"shock\")\n",
    "shock_day_ind <- which(names(tobit_46ab$coefficients) == \"shock_day\")\n",
    "\n",
    "# Adjusting coefficient \n",
    "tobit_46ab$coefficients[shock_ind] <- tobit_46ab$coefficients[shock_ind] + tobit_46ab$coefficients[shock_day_ind]*121\n",
    "tobit_46ab$var[shock_ind,shock_ind] <- tobit_46ab$var[shock_ind,shock_ind] + 121*121*tobit_46ab$var[shock_day_ind,shock_day_ind] + 2*121*tobit_46ab$var[shock_ind,shock_day_ind]\n",
    "\n",
    "# Block level FE\n",
    "tobit_46ac = tobit(rateproff  ~ ratepr + shock + shock_alwayspr + alwayspr + day + shock_day + ubid  + holiday\n",
    "                               + res_gender + res_sbc + res_tribe + season1 + season2 + dayofmonth + cluster(ubid) + cluster(day),\n",
    "                               data = usedata)\n",
    "\n",
    "# Need to find numeric index of shock and shock_day\n",
    "shock_ind <- which(names(tobit_46ac$coefficients) == \"shock\")\n",
    "shock_day_ind <- which(names(tobit_46ac$coefficients) == \"shock_day\")\n",
    "\n",
    "# Adjusting coefficient \n",
    "tobit_46ac$coefficients[shock_ind] <- tobit_46ac$coefficients[shock_ind] + tobit_46ac$coefficients[shock_day_ind]*121\n",
    "tobit_46ac$var[shock_ind,shock_ind] <- tobit_46ac$var[shock_ind,shock_ind] + 121*121*tobit_46ac$var[shock_day_ind,shock_day_ind] + 2*121*tobit_46ac$var[shock_ind,shock_day_ind]\n",
    "\n",
    "# Save Table 4a. Controlling for Blocks made the system unsolvable\n",
    "Table4a <- results(list(tobit_42a, tobit_42ab, tobit_46a, tobit_46ab), c(\"shock\", \"shock_alwayspr\", \"alwayspr\"), \n",
    "                   TE = c(\"Day\", \"Day\", \"Shock x Day\", \"Shock x Day\"),\n",
    "                   FE = c(\"District\", \"District\", \"District\", \"District\"),\n",
    "                   labels = c(\"Shock\", \"Shock x (Always PR)\", \"Always PR\"))\n",
    "write.csv(Table4a, \"Robustness/tables/Table4a.csv\")"
   ]
  },
  {
   "cell_type": "code",
   "execution_count": 9,
   "metadata": {},
   "outputs": [],
   "source": [
    "# Panel B: Dynamic effects\n",
    "tobit_42b = tobit(rateproff  ~ ratepr + shock + shock_fdw_all + shock_fdw_some + fdw_all + fdw_some + holiday + res_gender + res_sbc + res_tribe\n",
    "                              + day + as.factor(did) + season1 + season2 + dayofmonth + cluster(upid) + cluster(day), data = usedata)\n",
    "\n",
    "# Cluster by block\n",
    "tobit_42bb = tobit(rateproff  ~ ratepr + shock + shock_fdw_all + shock_fdw_some + fdw_all + fdw_some + holiday + res_gender + res_sbc + res_tribe\n",
    "                              + day + as.factor(did) + season1 + season2 + dayofmonth + cluster(ubid) + cluster(day), data = usedata)\n",
    "\n",
    "# Block FE\n",
    "tobit_42bc = tobit(rateproff  ~ ratepr + shock + shock_fdw_all + shock_fdw_some + fdw_all + fdw_some + holiday + res_gender + res_sbc + res_tribe\n",
    "                              + day + ubid + season1 + season2 + dayofmonth + cluster(ubid) + cluster(day), data = usedata)\n",
    "\n",
    "# Column 6\n",
    "tobit_46b <- tobit(rateproff  ~ ratepr + shock + shock_fdw_all + shock_fdw_some + shock_bdw_all + shock_bdw_some + fdw_all + fdw_some\n",
    "                            + bdw_all + bdw_some  + holiday + res_gender + res_sbc + res_tribe + day + shock_day + as.factor(did)\n",
    "                            + season1 + season2 + dayofmonth + cluster(upid) + cluster(day), 0, \n",
    "                            data = usedata)\n",
    "\n",
    "# Need to find numeric index of shock and shock_day\n",
    "shock_ind <- which(names(tobit_46b$coefficients) == \"shock\")\n",
    "shock_day_ind <- which(names(tobit_46b$coefficients) == \"shock_day\")\n",
    "\n",
    "# Adjusting Shock effect\n",
    "tobit_46b$coefficients[shock_ind] <- tobit_46b$coefficients[shock_ind] + tobit_46b$coefficients[shock_day_ind]*121\n",
    "tobit_46b$var[shock_ind,shock_ind] <- tobit_46b$var[shock_ind,shock_ind] + 121*121*tobit_46b$var[shock_day_ind,shock_day_ind] + 2*121*tobit_46b$var[shock_ind,shock_day_ind]\n",
    "\n",
    "# Clustering by block\n",
    "tobit_46bb <- tobit(rateproff  ~ ratepr + shock + shock_fdw_all + shock_fdw_some + shock_bdw_all + shock_bdw_some + fdw_all + fdw_some\n",
    "                                + bdw_all + bdw_some  + holiday + res_gender + res_sbc + res_tribe + day + shock_day + as.factor(did)\n",
    "                                + season1 + season2 + dayofmonth + cluster(ubid) + cluster(day), 0, \n",
    "                                data = usedata)\n",
    "\n",
    "# Need to find numeric index of shock and shock_day\n",
    "shock_ind <- which(names(tobit_46bb$coefficients) == \"shock\")\n",
    "shock_day_ind <- which(names(tobit_46bb$coefficients) == \"shock_day\")\n",
    "\n",
    "# Adjusting Shock effect\n",
    "tobit_46bb$coefficients[shock_ind] <- tobit_46bb$coefficients[shock_ind] + tobit_46bb$coefficients[shock_day_ind]*121\n",
    "tobit_46bb$var[shock_ind,shock_ind] <- tobit_46bb$var[shock_ind,shock_ind] + 121*121*tobit_46bb$var[shock_day_ind,shock_day_ind] + 2*121*tobit_46bb$var[shock_ind,shock_day_ind]\n",
    "\n",
    "# Adding block FE\n",
    "tobit_46bc <- tobit(rateproff  ~ ratepr + shock + shock_fdw_all + shock_fdw_some + shock_bdw_all + shock_bdw_some + fdw_all + fdw_some\n",
    "                                + bdw_all + bdw_some  + holiday + res_gender + res_sbc + res_tribe + day + shock_day + ubid\n",
    "                                + season1 + season2 + dayofmonth + cluster(ubid) + cluster(day), 0, \n",
    "                                data = usedata)\n",
    "\n",
    "# Need to find numeric index of shock and shock_day\n",
    "shock_ind <- which(names(tobit_46bc$coefficients) == \"shock\")\n",
    "shock_day_ind <- which(names(tobit_46bc$coefficients) == \"shock_day\")\n",
    "\n",
    "# Adjusting Shock effect\n",
    "tobit_46bc$coefficients[shock_ind] <- tobit_46bc$coefficients[shock_ind] + tobit_46bc$coefficients[shock_day_ind]*121\n",
    "tobit_46bc$var[shock_ind,shock_ind] <- tobit_46bc$var[shock_ind,shock_ind] + 121*121*tobit_46bc$var[shock_day_ind,shock_day_ind] + 2*121*tobit_46bc$var[shock_ind,shock_day_ind]\n",
    "\n",
    "# Write Table 4b. Block FE not solvable\n",
    "Table4b <- results(list(tobit_42b, tobit_42bb, tobit_46b, tobit_46bb), c(\"shock\", \"shock_fdw_all\", \"shock_fdw_some\", \"shock_bdw_all\", \"shock_bdw_some\"),\n",
    "                   2, 2, T, TE = c(\"Day\", \"Day\", \"Shock x Day\", \"Shock x Day\"),\n",
    "                   FE = c(\"District\", \"District\", \"District\", \"District\"),\n",
    "                   labels = c(\"Shock\", \"Shock x (Forward DW All)\", \"Shock x (Forward DW Some)\", \"Shock x (Backward DW All)\", \"Shock x (Backward DW Some)\"))\n",
    "write.csv(Table4b, \"Robustness/tables/Table4b.csv\")"
   ]
  },
  {
   "cell_type": "code",
   "execution_count": 10,
   "metadata": {},
   "outputs": [
    {
     "name": "stderr",
     "output_type": "stream",
     "text": [
      "Saving 13.3 x 13.3 in image\n"
     ]
    },
    {
     "data": {
      "image/png": "[encoded data removed]",
      "text/plain": [
       "plot without title"
      ]
     },
     "metadata": {},
     "output_type": "display_data"
    },
    {
     "name": "stderr",
     "output_type": "stream",
     "text": [
      "Saving 13.3 x 13.3 in image\n"
     ]
    },
    {
     "data": {
      "image/png": "[encoded data removed]",
      "text/plain": [
       "plot without title"
      ]
     },
     "metadata": {},
     "output_type": "display_data"
    }
   ],
   "source": [
    "# Assessing did-Assumptions\n",
    "did_assump = t(tapply((diddata$rateproff), list(diddata$sid, diddata$day), sum, na.rm = TRUE, simplify = TRUE))\n",
    "colnames(did_assump) <- c(\"Orissa\", \"Andra Pradesh\")\n",
    "\n",
    "# Bring into single column form\n",
    "did_assump <- gather(data.frame(did_assump), \"State\", \"SumPRoff\")\n",
    "\n",
    "# Generate Day column\n",
    "did_assump$day <- rep(1:122, 2)\n",
    "\n",
    "# Plot\n",
    "ggplot(did_assump, aes(x = day, y = SumPRoff, col = State)) + geom_line() + theme_bw() + labs(x = \"Day\", y = \"Sum of rate PR\") + geom_vline(xintercept = c(5, 54, 61)) +\n",
    "  scale_x_continuous(breaks = seq(1, 122, 7), labels = as.Date(did_assump$day - 1, origin = \"2007-03-01\")[seq(1, 122, 7)]) + theme(axis.text.x = element_text(angle = 90)) +\n",
    "  geom_text(aes(x = 60, y = 25000, label = \"OR Shock\"), angle = 90, col = \"black\", size = 4) + \n",
    "  geom_text(aes(x = 53, y = 25000, label = \"AP Shock 2\"), angle = 90, col = \"black\", size = 4) + \n",
    "  geom_text(aes(x = 4, y = 25000, label = \"AP Shock 1\"), angle = 90, col = \"black\", size = 4)\n",
    "\n",
    "# Save image \n",
    "ggsave(\"Robustness/figures/Did_assump.png\", scale = 2)\n",
    "\n",
    "# Histogram of rateproff by states\n",
    "diddata$State <- factor(diddata$sid, levels = c(24, 99), labels = c(\"Orissa\", \"Andra Pradesh\"))\n",
    "ggplot(diddata, aes(x = rateproff)) + geom_histogram(aes(col = State), bins = 20, fill = \"white\")\n",
    "\n",
    "ggsave(\"Robustness/figures/Hist_rateproff_ORAP.png\", scale = 2)"
   ]
  },
  {
   "cell_type": "code",
   "execution_count": 11,
   "metadata": {},
   "outputs": [],
   "source": [
    "# DiD assumption doesn't hold. Replicate using Tobit\n",
    "tobit_51a = tobit(rateproff ~ orshock + or_orshock + apshock1 + ap_apshock1 + apshock2 + ap_apshock2\n",
    "                              + day + ratepr + holiday + season1 + season2 + dayofmonth + as.factor(sid)\n",
    "                              + cluster(upid) + cluster(day), data = diddata)\n",
    "\n",
    "# District FE\n",
    "tobit_52a = tobit(rateproff ~ orshock + or_orshock + apshock1 + ap_apshock1 + apshock2 + ap_apshock2\n",
    "                              + day + ratepr  + holiday + season1 + season2 + dayofmonth + as.factor(did)\n",
    "                              + cluster(upid) + cluster(day), data = diddata)\n",
    "\n",
    "# DID and district FE\n",
    "tobit_53a = tobit(rateproff ~ orshock + or_orshock + apshock1 + ap_apshock1 + apshock2 + ap_apshock2\n",
    "                              + day + shock_day + ratepr  + holiday + season1 + season2 + dayofmonth + as.factor(did)\n",
    "                              + cluster(upid) + cluster(day), data = diddata)\n",
    "\n",
    "# Need to find numeric index of shock and shock_day\n",
    "orshock_ind <- which(names(tobit_53a$coefficients) == \"orshock\")\n",
    "shock_day_ind <- which(names(tobit_53a$coefficients) == \"shock_day\")\n",
    "\n",
    "# Adjusting effect\n",
    "tobit_53a$coefficients[orshock_ind] <- tobit_53a$coefficients[orshock_ind] + tobit_53a$coefficients[shock_day_ind]*121\n",
    "tobit_53a$var[orshock_ind,orshock_ind] <- tobit_53a$var[orshock_ind,orshock_ind] + 121*121*tobit_53a$var[shock_day_ind,shock_day_ind] + 2*121*tobit_53a$var[orshock_ind,shock_day_ind]\n",
    "\n",
    "# UBID instead of did\n",
    "tobit_53ab = tobit(rateproff ~ orshock + or_orshock + apshock1 + ap_apshock1 + apshock2 + ap_apshock2\n",
    "                              + day + shock_day + ratepr  + holiday + season1 + season2 + dayofmonth + as.factor(did)\n",
    "                              + cluster(ubid) + cluster(day), data = diddata)\n",
    "\n",
    "# Need to find numeric index of shock and shock_day\n",
    "orshock_ind <- which(names(tobit_53ab$coefficients) == \"orshock\")\n",
    "shock_day_ind <- which(names(tobit_53ab$coefficients) == \"shock_day\")\n",
    "\n",
    "# Adjusting effect\n",
    "tobit_53ab$coefficients[orshock_ind] <- tobit_53ab$coefficients[orshock_ind] + tobit_53ab$coefficients[shock_day_ind]*121\n",
    "tobit_53ab$var[orshock_ind,orshock_ind] <- tobit_53ab$var[orshock_ind,orshock_ind] + 121*121*tobit_53ab$var[shock_day_ind,shock_day_ind] + 2*121*tobit_53ab$var[orshock_ind,shock_day_ind]\n",
    "\n",
    "# Output Table\n",
    "Table5 <- results(list(tobit_51a, tobit_52a, tobit_53a, tobit_53ab), \n",
    "                  c(\"or_orshock\", \"ap_apshock1\", \"ap_apshock2\", \"orshock\", \"apshock1\", \"apshock2\", \"ratepr\"),\n",
    "                  TE = c(\"Day\", \"Day\", \"Shock x Day\", \"Shock x Day\"), FE = c(\"State\", \"District\", \"District\", \"District\"),\n",
    "                  labels = c(\"OR x (OR Shock)\", \"AP x (AP Shock 1)\", \"AP x (AP Shock 2)\", \"OR Shock\", \"AP Shock 1\", \"AP Shock 2\", \"Actual PR payments\"))\n",
    "write.csv(Table5, \"Robustness/tables/Table5.csv\")"
   ]
  }
 ],
 "metadata": {
  "kernelspec": {
   "display_name": "Python 3",
   "language": "python",
   "name": "python3"
  },
  "language_info": {
   "codemirror_mode": {
    "name": "ipython",
    "version": 3
   },
   "file_extension": ".py",
   "mimetype": "text/x-python",
   "name": "python",
   "nbconvert_exporter": "python",
   "pygments_lexer": "ipython3",
   "version": "3.9.4"
  }
 },
 "nbformat": 4,
 "nbformat_minor": 4
}

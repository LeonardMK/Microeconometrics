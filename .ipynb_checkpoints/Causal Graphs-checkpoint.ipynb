{
 "cells": [
  {
   "cell_type": "markdown",
   "metadata": {},
   "source": [
    "### Create Causal Graphs using ggdag und ggplot2"
   ]
  },
  {
   "cell_type": "code",
   "execution_count": 4,
   "metadata": {},
   "outputs": [
    {
     "ename": "ERROR",
     "evalue": "Error in library(Zelig): there is no package called 'Zelig'\n",
     "execution_count": 4,
     "output_type": "error",
     "traceback": [
      "Error in library(Zelig): there is no package called 'Zelig'\nTraceback:\n",
      "1. library(Zelig)",
      "2. stop(txt, domain = NA)"
     ]
    }
   ],
   "source": [
    "library(Zelig)"
   ]
  },
  {
   "cell_type": "code",
   "execution_count": 2,
   "metadata": {},
   "outputs": [
    {
     "name": "stderr",
     "output_type": "stream",
     "text": [
      "Installing package into 'C:/Users/Karli/Documents/R/win-library/3.4'\n",
      "(as 'lib' is unspecified)\n"
     ]
    },
    {
     "name": "stdout",
     "output_type": "stream",
     "text": [
      "package 'devtools' successfully unpacked and MD5 sums checked\n"
     ]
    }
   ],
   "source": [
    "install.packages(\"devtools\", destdir = \"C:/Users/Karli/OneDrive - uni-bonn.de/Uni Bonn//2. Semester/Microeconometrics/Replication study/Github Replication/student-project-LeonardMK/CRAN-packages\")"
   ]
  },
  {
   "cell_type": "code",
   "execution_count": 3,
   "metadata": {},
   "outputs": [
    {
     "name": "stderr",
     "output_type": "stream",
     "text": [
      "Trying https://mran.microsoft.com/snapshot/2017-09-01\n",
      "Trying http://www.stats.ox.ac.uk/pub/RWin\n",
      "Downloading package from url: https://mran.microsoft.com/snapshot/2017-09-01/src/contrib/Archive/Zelig/Zelig_4.2-1.tar.gz\n",
      "Installing Zelig\n",
      "\"C:/Users/Karli/Anaconda3/lib/R/bin/x64/R\" --no-site-file --no-environ  \\\n",
      "  --no-save --no-restore --quiet CMD INSTALL  \\\n",
      "  \"C:/Users/Karli/AppData/Local/Temp/RtmpsLLEXE/devtools143c1c05866/Zelig\"  \\\n",
      "  --library=\"C:/Users/Karli/Documents/R/win-library/3.4\" --install-tests \n",
      "\n"
     ]
    }
   ],
   "source": [
    "library(devtools)\n",
    "install_version(\"Zelig\", \"4.2-1\")"
   ]
  },
  {
   "cell_type": "code",
   "execution_count": 4,
   "metadata": {},
   "outputs": [
    {
     "name": "stderr",
     "output_type": "stream",
     "text": [
      "Loading required package: boot\n",
      "Loading required package: MASS\n",
      "Loading required package: sandwich\n",
      "Warning message:\n",
      "\"package 'sandwich' was built under R version 3.5.2\"ZELIG (Versions 4.2-1, built: 2013-09-12)\n",
      "\n",
      "+----------------------------------------------------------------+\n",
      "|  Please refer to http://gking.harvard.edu/zelig for full       |\n",
      "|  documentation or help.zelig() for help with commands and      |\n",
      "|  models support by Zelig.                                      |\n",
      "|                                                                |\n",
      "|  Zelig project citations:                                      |\n",
      "|    Kosuke Imai, Gary King, and Olivia Lau.  (2009).            |\n",
      "|    ``Zelig: Everyone's Statistical Software,''                 |\n",
      "|    http://gking.harvard.edu/zelig                              |\n",
      "|   and                                                          |\n",
      "|    Kosuke Imai, Gary King, and Olivia Lau. (2008).             |\n",
      "|    ``Toward A Common Framework for Statistical Analysis        |\n",
      "|    and Development,'' Journal of Computational and             |\n",
      "|    Graphical Statistics, Vol. 17, No. 4 (December)             |\n",
      "|    pp. 892-913.                                                |\n",
      "|                                                                |\n",
      "|   To cite individual Zelig models, please use the citation     |\n",
      "|   format printed with each model run and in the documentation. |\n",
      "+----------------------------------------------------------------+\n",
      "\n",
      "\n",
      "\n",
      "Attaching package: 'Zelig'\n",
      "\n",
      "The following object is masked from 'package:utils':\n",
      "\n",
      "    cite\n",
      "\n"
     ]
    }
   ],
   "source": [
    "library(Zelig)"
   ]
  },
  {
   "cell_type": "code",
   "execution_count": null,
   "metadata": {},
   "outputs": [],
   "source": []
  }
 ],
 "metadata": {
  "kernelspec": {
   "display_name": "R",
   "language": "R",
   "name": "ir"
  },
  "language_info": {
   "codemirror_mode": "r",
   "file_extension": ".r",
   "mimetype": "text/x-r-source",
   "name": "R",
   "pygments_lexer": "r",
   "version": "3.4.3"
  }
 },
 "nbformat": 4,
 "nbformat_minor": 2
}

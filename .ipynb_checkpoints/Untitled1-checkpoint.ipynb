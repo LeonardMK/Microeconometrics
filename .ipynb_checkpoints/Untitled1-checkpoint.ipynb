{
 "cells": [
  {
   "cell_type": "markdown",
   "metadata": {},
   "source": [
    "### Create Causal Graphs using ggdag und ggplot2"
   ]
  },
  {
   "cell_type": "code",
   "execution_count": 2,
   "metadata": {},
   "outputs": [
    {
     "ename": "ERROR",
     "evalue": "Error: package or namespace load failed for 'DiagrammeR' in inDL(x, as.logical(local), as.logical(now), ...):\n kann shared object 'C:/Users/Karli/Documents/R/win-library/3.4/Rcpp/libs/x64/Rcpp.dll' nicht laden:\n  LoadLibrary failure:  Die angegebene Prozedur wurde nicht gefunden.\n\n",
     "execution_count": 2,
     "output_type": "error",
     "traceback": [
      "Error: package or namespace load failed for 'DiagrammeR' in inDL(x, as.logical(local), as.logical(now), ...):\n kann shared object 'C:/Users/Karli/Documents/R/win-library/3.4/Rcpp/libs/x64/Rcpp.dll' nicht laden:\n  LoadLibrary failure:  Die angegebene Prozedur wurde nicht gefunden.\n\nTraceback:\n",
      "1. library(DiagrammeR)",
      "2. tryCatch({\n .     attr(package, \"LibPath\") <- which.lib.loc\n .     ns <- loadNamespace(package, lib.loc)\n .     env <- attachNamespace(ns, pos = pos, deps)\n . }, error = function(e) {\n .     P <- if (!is.null(cc <- conditionCall(e))) \n .         paste(\" in\", deparse(cc)[1L])\n .     else \"\"\n .     msg <- gettextf(\"package or namespace load failed for %s%s:\\n %s\", \n .         sQuote(package), P, conditionMessage(e))\n .     if (logical.return) \n .         message(paste(\"Error:\", msg), domain = NA)\n .     else stop(msg, call. = FALSE, domain = NA)\n . })",
      "3. tryCatchList(expr, classes, parentenv, handlers)",
      "4. tryCatchOne(expr, names, parentenv, handlers[[1L]])",
      "5. value[[3L]](cond)",
      "6. stop(msg, call. = FALSE, domain = NA)"
     ]
    }
   ],
   "source": [
    "library(DiagrammeR)"
   ]
  },
  {
   "cell_type": "code",
   "execution_count": null,
   "metadata": {},
   "outputs": [],
   "source": []
  }
 ],
 "metadata": {
  "kernelspec": {
   "display_name": "R",
   "language": "R",
   "name": "ir"
  },
  "language_info": {
   "codemirror_mode": "r",
   "file_extension": ".r",
   "mimetype": "text/x-r-source",
   "name": "R",
   "pygments_lexer": "r",
   "version": "3.4.3"
  }
 },
 "nbformat": 4,
 "nbformat_minor": 2
}
